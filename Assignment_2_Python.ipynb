{
  "nbformat": 4,
  "nbformat_minor": 0,
  "metadata": {
    "colab": {
      "provenance": []
    },
    "kernelspec": {
      "name": "python3",
      "display_name": "Python 3"
    },
    "language_info": {
      "name": "python"
    }
  },
  "cells": [
    {
      "cell_type": "code",
      "source": [
        "#Take values of the length & breadth of a rectangle from user input and check if it is square or not\n",
        "length=int(input(\"Enter Length:\"))\n",
        "breadth=int(input(\"Enter breadth:\"))\n",
        "if length==breadth:\n",
        "  print(\"It's Square\")\n",
        "else:\n",
        "  print(\"It's not Square\")"
      ],
      "metadata": {
        "colab": {
          "base_uri": "https://localhost:8080/"
        },
        "id": "pc1oUzfmANeg",
        "outputId": "8b5b9c51-3092-4713-aeb2-782264ead9f2"
      },
      "execution_count": null,
      "outputs": [
        {
          "output_type": "stream",
          "name": "stdout",
          "text": [
            "Enter Length:10\n",
            "Enter breadth:10\n",
            "It's Square\n"
          ]
        }
      ]
    },
    {
      "cell_type": "code",
      "source": [
        "#Take three integer values from the user and print the greatest among them.\n",
        "a=int(input(\"a: \"))\n",
        "b=int(input(\"b: \"))\n",
        "c=int(input(\"c: \"))\n",
        "if b<a>c:\n",
        "  print('a is the greatest')\n",
        "elif a<b>c:\n",
        "  print('b is the greatest')\n",
        "else:\n",
        "  print('c is the greatest')"
      ],
      "metadata": {
        "colab": {
          "base_uri": "https://localhost:8080/"
        },
        "id": "ycTcPhPvBD-f",
        "outputId": "51a22fcf-eca6-4aba-b120-08590e990a72"
      },
      "execution_count": null,
      "outputs": [
        {
          "output_type": "stream",
          "name": "stdout",
          "text": [
            "a20\n",
            "b15\n",
            "c12\n",
            "a is the greatest\n"
          ]
        }
      ]
    },
    {
      "cell_type": "code",
      "source": [
        "#A student will not be allowed to sit in an exam if his/her attendance is less than 75%\n",
        "total_class=int(input('Total Class Count: '))\n",
        "attendance=int(input('Total attendance: '))\n",
        "if attendance<total_class:\n",
        "  if (attendance/total_class)*100 == 75:\n",
        "    print(\"allowed\")\n",
        "  else:\n",
        "    print('not allow')\n",
        "else:\n",
        "  print('total class must be bigger')"
      ],
      "metadata": {
        "id": "5C7m_glMDCwQ"
      },
      "execution_count": null,
      "outputs": []
    },
    {
      "cell_type": "code",
      "source": [
        "#A school has the following rules for the grading system: \n",
        "#Below 25 – F, 25 to 44 – E, 45 to 49 – D, 50 to 59 – C, 60 to 79 – B, 80 to 89 - A, Above 90 - A+\n",
        "#Now, Ask the user to enter marks and print the corresponding grade.\n",
        "\n",
        "\n",
        "marks=int(input('Enter Marks: '))\n",
        "\n",
        "if marks>=90:\n",
        "  print('A+')\n",
        "elif marks>=80 and marks<=89:\n",
        "  print('A')\n",
        "elif marks>=60 and marks<=79:\n",
        "  print('B')\n",
        "elif marks>=50 and marks<=59:\n",
        "  print('C')\n",
        "elif marks>=45 and marks<=49:\n",
        "  print('D')\n",
        "elif marks>=25 and marks<=44:\n",
        "  print('E')\n",
        "else:\n",
        "  print('F')\n",
        "\n"
      ],
      "metadata": {
        "colab": {
          "base_uri": "https://localhost:8080/"
        },
        "id": "-itJPOmOpnTu",
        "outputId": "b11b0246-ddec-4446-b3d4-bc49f16d7daf"
      },
      "execution_count": null,
      "outputs": [
        {
          "output_type": "stream",
          "name": "stdout",
          "text": [
            "Enter Marks: -25\n",
            "F\n"
          ]
        }
      ]
    },
    {
      "cell_type": "code",
      "source": [
        "#Print the following pattern using for and while loop.\n",
        "#1 2 3 4 5 6 7\n",
        "#1 2 3 4 5 6\n",
        "#1 2 3 4 5\n",
        "#1 2 3 4\n",
        "\n",
        "number=int(input('Enter a number: '))\n",
        "#for loop\n",
        "for i in range(4):\n",
        "  for j in range(1,number+1):\n",
        "    print(j,end=' ')\n",
        "  number-=1  \n",
        "  print()\n"
      ],
      "metadata": {
        "colab": {
          "base_uri": "https://localhost:8080/"
        },
        "id": "dp-P0qoSufv3",
        "outputId": "4d0b99f3-a9bb-4086-ce05-3d07f306f8e1"
      },
      "execution_count": null,
      "outputs": [
        {
          "output_type": "stream",
          "name": "stdout",
          "text": [
            "Enter a number: 8\n",
            "1 2 3 4 5 6 7 8 \n",
            "1 2 3 4 5 6 7 \n",
            "1 2 3 4 5 6 \n",
            "1 2 3 4 5 \n"
          ]
        }
      ]
    },
    {
      "cell_type": "code",
      "source": [
        "#while loop\n",
        "number=int(input('Enter a number: '))\n",
        "range=0\n",
        "while range<4:\n",
        "  i=1\n",
        "  while i<=number:\n",
        "    print(i,end=' ')\n",
        "    i+=1\n",
        "  number-=1\n",
        "  print()\n",
        "  range+=1"
      ],
      "metadata": {
        "colab": {
          "base_uri": "https://localhost:8080/"
        },
        "id": "mFjB7_FLzqoO",
        "outputId": "dad61dcb-0bca-4689-e6a1-219737c4287f"
      },
      "execution_count": null,
      "outputs": [
        {
          "output_type": "stream",
          "name": "stdout",
          "text": [
            "Enter a number: 7\n",
            "1 2 3 4 5 6 7 \n",
            "1 2 3 4 5 6 \n",
            "1 2 3 4 5 \n",
            "1 2 3 4 \n"
          ]
        }
      ]
    },
    {
      "cell_type": "code",
      "source": [
        "# Display numbers from -100 to -10 using for loop.\n",
        "for i in range(-100,-9):\n",
        "  print(i,end=' ')\n"
      ],
      "metadata": {
        "colab": {
          "base_uri": "https://localhost:8080/"
        },
        "id": "LZ0-osacyOl4",
        "outputId": "34263866-c0ad-4c5c-d5a7-082675b1f6e5"
      },
      "execution_count": null,
      "outputs": [
        {
          "output_type": "stream",
          "name": "stdout",
          "text": [
            "-100 -99 -98 -97 -96 -95 -94 -93 -92 -91 -90 -89 -88 -87 -86 -85 -84 -83 -82 -81 -80 -79 -78 -77 -76 -75 -74 -73 -72 -71 -70 -69 -68 -67 -66 -65 -64 -63 -62 -61 -60 -59 -58 -57 -56 -55 -54 -53 -52 -51 -50 -49 -48 -47 -46 -45 -44 -43 -42 -41 -40 -39 -38 -37 -36 -35 -34 -33 -32 -31 -30 -29 -28 -27 -26 -25 -24 -23 -22 -21 -20 -19 -18 -17 -16 -15 -14 -13 -12 -11 -10 "
          ]
        }
      ]
    },
    {
      "cell_type": "code",
      "source": [
        "# Write a program to sum all prime numbers within a range of 10 to 1000\n",
        "import math\n",
        "sum=0 \n",
        "def prime(n):\n",
        "  if n<2:\n",
        "    return False\n",
        "  if n==2 or n==3:\n",
        "    return True\n",
        "  if n%2 ==0 or n%3==0:\n",
        "    return False\n",
        "  for i in range(5,int(math.sqrt(n))+1,2):\n",
        "    if n%i ==0:\n",
        "      return False\n",
        "  return True\n",
        "\n",
        "for i in range(10,1001):\n",
        "  if prime(i):\n",
        "    sum+=i\n",
        "print(sum)"
      ],
      "metadata": {
        "id": "DMmc-QEI17uB",
        "colab": {
          "base_uri": "https://localhost:8080/"
        },
        "outputId": "effb2aa0-c200-438c-9da7-e9db7ff3a93a"
      },
      "execution_count": null,
      "outputs": [
        {
          "output_type": "stream",
          "name": "stdout",
          "text": [
            "76110\n"
          ]
        }
      ]
    },
    {
      "cell_type": "code",
      "source": [
        "#Find the factorial of an n!\n",
        "\n",
        "def factorial(n):\n",
        "  if n<0:\n",
        "    return 'please use positive number'\n",
        "  elif n==0 or n==1:\n",
        "    return 1\n",
        "  else:\n",
        "    fact=1\n",
        "    for i in range(1,n+1):\n",
        "      fact*=i\n",
        "    return fact\n",
        "\n",
        "number=int(input('Enter value: '))\n",
        "print(factorial(number))\n"
      ],
      "metadata": {
        "colab": {
          "base_uri": "https://localhost:8080/"
        },
        "id": "t3GmQytKZEJp",
        "outputId": "323606e2-105e-4d18-aeac-4f6d82a5f6bd"
      },
      "execution_count": null,
      "outputs": [
        {
          "output_type": "stream",
          "name": "stdout",
          "text": [
            "Enter value: 5\n",
            "120\n"
          ]
        }
      ]
    },
    {
      "cell_type": "code",
      "source": [
        "#Print the following pattern using for and while loop.\n",
        "# # #\n",
        "# # # #\n",
        "# # # \n",
        "# # for loop\n",
        "\n",
        "num=int(input(\"Enter a Number: \"))\n",
        "i=0\n",
        "if i==0:\n",
        "  for i in range(num):\n",
        "    print('#',end=' ')\n",
        "  print()\n",
        "for j in range(num+1,1,-1):\n",
        "  for k in range(j):\n",
        "    print('#',end=' ')\n",
        "  print()"
      ],
      "metadata": {
        "colab": {
          "base_uri": "https://localhost:8080/"
        },
        "id": "z6A65MD1vJ4_",
        "outputId": "dd5a8d06-e19e-4d81-9dde-eda5200fb0ba"
      },
      "execution_count": null,
      "outputs": [
        {
          "output_type": "stream",
          "name": "stdout",
          "text": [
            "Enter a Number: 3\n",
            "# # # \n",
            "# # # # \n",
            "# # # \n",
            "# # \n"
          ]
        }
      ]
    },
    {
      "cell_type": "code",
      "source": [
        "#while loop\n",
        "num=int(input(\"Enter a Number: \"))\n",
        "i=0\n",
        "if i==0:\n",
        "  while i<num:\n",
        "    print('#',end=' ')\n",
        "    i+=1\n",
        "  print()\n",
        "j=num+1\n",
        "while j>1:\n",
        "  k=0\n",
        "  while k<j:\n",
        "    print('#',end=' ')\n",
        "    k+=1\n",
        "  j-=1\n",
        "  print()"
      ],
      "metadata": {
        "colab": {
          "base_uri": "https://localhost:8080/"
        },
        "id": "7IXcEK-EaXLT",
        "outputId": "1ec2b049-09db-491d-b7c2-acf46ca86556"
      },
      "execution_count": null,
      "outputs": [
        {
          "output_type": "stream",
          "name": "stdout",
          "text": [
            "Enter a Number: 3\n",
            "# # # \n",
            "# # # # \n",
            "# # # \n",
            "# # \n"
          ]
        }
      ]
    },
    {
      "cell_type": "code",
      "source": [
        "#. Display the Fibonacci series of 15 elements using the for and while loop\n",
        "#for Loop\n",
        "n1=0\n",
        "n2=1\n",
        "for i in range(16):\n",
        "  print(n1,end=' ')\n",
        "  n1,n2=n2,n1+n2"
      ],
      "metadata": {
        "colab": {
          "base_uri": "https://localhost:8080/"
        },
        "id": "c36BenEj21wu",
        "outputId": "b6ca4b85-3bfc-4ead-f2d9-e52e20aa983c"
      },
      "execution_count": 12,
      "outputs": [
        {
          "output_type": "stream",
          "name": "stdout",
          "text": [
            "0 1 1 2 3 5 8 13 21 34 55 89 144 233 377 610 "
          ]
        }
      ]
    },
    {
      "cell_type": "code",
      "source": [
        "#while Loop\n",
        "n1=0\n",
        "n2=1\n",
        "i=0\n",
        "while i<16:\n",
        "  print(n1,end=' ')\n",
        "  n1,n2=n2,n1+n2\n",
        "  i+=1\n",
        "  "
      ],
      "metadata": {
        "id": "NneTNfRDcqy6",
        "colab": {
          "base_uri": "https://localhost:8080/"
        },
        "outputId": "eb91cabc-c118-4dc3-e28c-2c29bba94d7e"
      },
      "execution_count": 13,
      "outputs": [
        {
          "output_type": "stream",
          "name": "stdout",
          "text": [
            "0 1 1 2 3 5 8 13 21 34 55 89 144 233 377 610 "
          ]
        }
      ]
    },
    {
      "cell_type": "code",
      "source": [
        "#Remove 2 and add 3 to the list and replace True with False.\n",
        "Li = [1,3,5, [2,3], True]\n",
        "Li[3][0]=3\n",
        "Li[-1]=False\n",
        "print(Li)"
      ],
      "metadata": {
        "colab": {
          "base_uri": "https://localhost:8080/"
        },
        "id": "eFpHaNlTxNeX",
        "outputId": "f52f6d1f-7665-4469-9cf8-dbc20f496159"
      },
      "execution_count": 14,
      "outputs": [
        {
          "output_type": "stream",
          "name": "stdout",
          "text": [
            "[1, 3, 5, [3, 3], False]\n"
          ]
        }
      ]
    },
    {
      "cell_type": "code",
      "source": [
        "#Find the intersection (common) of two sets.\n",
        "S1 = {1,4,6,8}\n",
        "S2 = {True, 1,2,10}\n",
        "#print(S1.intersection(S2))\n",
        "\n",
        "print(S1 & S2)"
      ],
      "metadata": {
        "colab": {
          "base_uri": "https://localhost:8080/"
        },
        "id": "sxbDtpURxhft",
        "outputId": "4f65406d-58a8-4322-a032-d3bf30cfc3b7"
      },
      "execution_count": 17,
      "outputs": [
        {
          "output_type": "stream",
          "name": "stdout",
          "text": [
            "{True}\n",
            "{True}\n"
          ]
        }
      ]
    },
    {
      "cell_type": "code",
      "source": [
        "#Input a list from the user then Remove duplicates from a list and create a set and find the max number. \n",
        "User_input = [1,4,5,5,9,9,3,4,5,200,54]\n",
        "list1=[]\n",
        "for i in User_input:\n",
        "  if i not in list1:\n",
        "    list1.append(i)\n",
        "print(list1)\n",
        "set1=set(User_input) #also remove duplicate by default\n",
        "print(set1)\n",
        "print(max(set1))"
      ],
      "metadata": {
        "colab": {
          "base_uri": "https://localhost:8080/"
        },
        "id": "Go_3U6Bj6HZl",
        "outputId": "a2d0fb61-7d1e-46c7-b151-61475d160ea7"
      },
      "execution_count": 22,
      "outputs": [
        {
          "output_type": "stream",
          "name": "stdout",
          "text": [
            "[1, 4, 5, 9, 3, 200, 54]\n",
            "{1, 3, 4, 5, 200, 9, 54}\n",
            "200\n"
          ]
        }
      ]
    },
    {
      "cell_type": "code",
      "source": [
        "#Rename the key of a dictionary.\n",
        "Dict = { \"name\": \"Shakil\", \"age\":27, \"city\": \"Berlin\", \"country\": \"Germany\" }\n",
        "#Write a program to rename a key ‘country’ to a ‘region’ in the following dictionary\n",
        "for i in Dict.keys():\n",
        "    if i == 'country':\n",
        "        Dict['region'] = Dict.pop(i)\n",
        "        break\n",
        "print(Dict)\n"
      ],
      "metadata": {
        "colab": {
          "base_uri": "https://localhost:8080/"
        },
        "id": "23ulZ9Kr8DGQ",
        "outputId": "7ec6418c-cf69-4c82-a7dc-25f6d140f2a0"
      },
      "execution_count": 9,
      "outputs": [
        {
          "output_type": "stream",
          "name": "stdout",
          "text": [
            "{'name': 'Shakil', 'age': 27, 'city': 'Berlin', 'region': 'Germany'}\n"
          ]
        }
      ]
    },
    {
      "cell_type": "code",
      "source": [
        "#Creating a data frame using the list.\n",
        "#num = [10,100,300] (column name is number)\n",
        "#I don't get this one"
      ],
      "metadata": {
        "id": "UaFCphEv3eNV"
      },
      "execution_count": null,
      "outputs": []
    },
    {
      "cell_type": "code",
      "source": [
        "#Change the value of a key in a given dictionary.\n",
        "#Write a Python program to change ‘age’ to 28 in the following dictionary.\n",
        "Dict = { \"name\": \"Shakil\", \"age\":27, \"city\": \"Berlin\", \"country\": \"Germany\" }\n",
        "for key in Dict.keys():\n",
        "  if key=='age':\n",
        "    Dict[key]=28\n",
        "print(Dict)"
      ],
      "metadata": {
        "colab": {
          "base_uri": "https://localhost:8080/"
        },
        "id": "ZDzILJmE3lU8",
        "outputId": "df37c341-fc6e-4361-996b-7491726f6ca7"
      },
      "execution_count": 11,
      "outputs": [
        {
          "output_type": "stream",
          "name": "stdout",
          "text": [
            "{'name': 'Shakil', 'age': 28, 'city': 'Berlin', 'country': 'Germany'}\n"
          ]
        }
      ]
    }
  ]
}